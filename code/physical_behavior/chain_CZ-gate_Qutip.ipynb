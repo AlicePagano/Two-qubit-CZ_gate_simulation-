{
 "cells": [
  {
   "cell_type": "markdown",
   "id": "official-bookmark",
   "metadata": {
    "ExecuteTime": {
     "end_time": "2021-02-25T17:14:20.487108Z",
     "start_time": "2021-02-25T17:14:20.482415Z"
    }
   },
   "source": [
    "# Noise propagation in a chain of N-qubit - Qutip implementation"
   ]
  },
  {
   "cell_type": "code",
   "execution_count": 1,
   "id": "casual-pricing",
   "metadata": {
    "ExecuteTime": {
     "end_time": "2021-03-02T16:46:55.497730Z",
     "start_time": "2021-03-02T16:46:53.317353Z"
    }
   },
   "outputs": [
    {
     "name": "stderr",
     "output_type": "stream",
     "text": [
      "/Users/alicepagano/anaconda3/envs/qi/lib/python3.7/site-packages/ipykernel_launcher.py:15: MatplotlibDeprecationWarning: Support for setting the 'text.latex.preamble' or 'pgf.preamble' rcParam to a list of strings is deprecated since 3.3 and will be removed two minor releases later; set it to a single string instead.\n",
      "  from ipykernel import kernelapp as app\n"
     ]
    }
   ],
   "source": [
    "# Load packages\n",
    "import numpy as np\n",
    "import matplotlib.pyplot as plt\n",
    "from qutip import *\n",
    "import itertools\n",
    "from basic_units import radians, degrees, cos\n",
    "import os \n",
    "import csv \n",
    "import pandas as pd \n",
    "\n",
    "col = ['C0','C1','C2','C3']\n",
    "\n",
    "plt.rc('text', usetex=True)\n",
    "plt.rc('font', family='serif')\n",
    "plt.rcParams['text.latex.preamble'] = [r'\\boldmath',r'\\usepackage{physics}', r'\\usepackage{slashed}']\n",
    " "
   ]
  },
  {
   "cell_type": "markdown",
   "id": "departmental-covering",
   "metadata": {},
   "source": [
    "## Perfect blockade regime"
   ]
  },
  {
   "cell_type": "markdown",
   "id": "deadly-authorization",
   "metadata": {},
   "source": [
    "### Functions definition"
   ]
  },
  {
   "cell_type": "code",
   "execution_count": 2,
   "id": "micro-overview",
   "metadata": {
    "ExecuteTime": {
     "end_time": "2021-03-02T16:46:55.792830Z",
     "start_time": "2021-03-02T16:46:55.786780Z"
    }
   },
   "outputs": [],
   "source": [
    "# Function for computing phase \n",
    "def phase_func(z):\n",
    "    # a + ib\n",
    "    a = np.real(z)\n",
    "    b = np.imag(z)\n",
    "    \n",
    "    if b==0:\n",
    "        ph = 2*np.pi\n",
    "    if (a>=0 and b>0): # I\n",
    "        ph = np.arctan(b/a) \n",
    "    if (a<0 and b>0): # II\n",
    "        ph = np.arctan(b/a) + np.pi\n",
    "    if (a<0 and b<0): # III\n",
    "        ph = np.arctan(b/a) + np.pi\n",
    "    if (a>0 and b<0): # IV\n",
    "        ph = 2*np.pi + np.arctan(b/a)\n",
    "        \n",
    "    return ph"
   ]
  },
  {
   "cell_type": "code",
   "execution_count": 3,
   "id": "exempt-publicity",
   "metadata": {
    "ExecuteTime": {
     "end_time": "2021-03-02T16:46:56.398658Z",
     "start_time": "2021-03-02T16:46:56.386372Z"
    }
   },
   "outputs": [],
   "source": [
    "# Definition of the Hamiltonian for a two-qubit CZ gate\n",
    "def hamiltonian(Omega,Delta):\n",
    "    \n",
    "    psi00 = tensor(basis(3,0),basis(3,0))\n",
    "    psi01 = tensor(basis(3,1),basis(3,0)) \n",
    "    psi0r = tensor(basis(3,2),basis(3,0))\n",
    "    psi10 = tensor(basis(3,0),basis(3,1))\n",
    "    psi11 = tensor(basis(3,1),basis(3,1)) \n",
    "    psi1r = tensor(basis(3,2),basis(3,1))\n",
    "    psir0 = tensor(basis(3,0),basis(3,2))\n",
    "    psir1 = tensor(basis(3,1),basis(3,2))\n",
    "    psirr = tensor(basis(3,2),basis(3,2))\n",
    "\n",
    "    H0  = 0 * tensor(psi00.dag(),psi00)\n",
    "    \n",
    "    H01 = 1/2 * ( Omega * tensor(psi01.dag(),psi0r) + \n",
    "             np.conj(Omega) * tensor(psi0r.dag(),psi01) ) - Delta * tensor(psi0r.dag(),psi0r)\n",
    "    \n",
    "    H10 = 1/2 * ( Omega * tensor(psi10.dag(),psir0) + \n",
    "             np.conj(Omega) * tensor(psir0.dag(),psi10) ) - Delta * tensor(psir0.dag(),psir0)\n",
    "\n",
    "    H2  = 1/2 * ( Omega * ( tensor(psi11.dag(),psir1) + tensor(psi11.dag(),psi1r) ) \n",
    "            + np.conj(Omega) * ( tensor(psir1.dag(),psi11) + tensor(psi1r.dag(),psi11) ) \n",
    "            ) - Delta/2 * ( tensor(psir1.dag(),psir1) + tensor(psir1.dag(),psi1r) \n",
    "                           + tensor(psi1r.dag(),psir1) + tensor(psi1r.dag(),psi1r))\n",
    "\n",
    "    H = H0 + H01 + H10 + H2\n",
    "    \n",
    "    return H\n",
    "\n",
    "# Optimal phase between two pulse\n",
    "def exp_xi(Delta,Omega,tau):\n",
    "    \n",
    "    y = Delta/Omega\n",
    "    s = Omega * tau\n",
    "    \n",
    "    a = np.sqrt(y**2+1)\n",
    "    b = s*a/2\n",
    "    \n",
    "    return (a*np.cos(b) + 1j*y*np.sin(b)) / (-a*np.cos(b) + 1j*y*np.sin(b))"
   ]
  },
  {
   "cell_type": "code",
   "execution_count": 4,
   "id": "round-weekly",
   "metadata": {
    "ExecuteTime": {
     "end_time": "2021-03-02T16:46:56.904888Z",
     "start_time": "2021-03-02T16:46:56.899501Z"
    }
   },
   "outputs": [],
   "source": [
    "# Chain state initialization\n",
    "def chain_init(N,state_first,state_last):\n",
    "    \n",
    "    psi = basis(3,state_first) \n",
    "    \n",
    "    for i in range(N-2):\n",
    "        psi = tensor(psi,basis(3,0))\n",
    "        \n",
    "    psi = tensor(psi,basis(3,state_last))\n",
    "    \n",
    "    return psi"
   ]
  },
  {
   "cell_type": "code",
   "execution_count": 5,
   "id": "forward-management",
   "metadata": {
    "ExecuteTime": {
     "end_time": "2021-03-02T16:46:57.245109Z",
     "start_time": "2021-03-02T16:46:57.234772Z"
    }
   },
   "outputs": [],
   "source": [
    "# Chain CZ-gate function\n",
    "def chain_CZ_gate(psi,Omega,Delta,tau,niter):\n",
    "        \n",
    "    N = len(dims(psi)[0]) # Number of qubits in the chain\n",
    "    I = qeye(3) # Define identity matrix\n",
    "    Hp1 = Qobj( hamiltonian(Omega,Delta), dims= [[3, 3, 3], [3, 3, 3]] ) # First pulse hamiltonian\n",
    "    Hp2 =  Qobj( hamiltonian(Omega * exp_xi(Delta,Omega,tau), Delta) , dims= [[3, 3, 3], [3, 3, 3]] ) # Second pulse hamiltonian \n",
    "    \n",
    "    times = np.linspace(0.0, tau, niter) # Discretize time\n",
    "        \n",
    "    for i in range(N-1):\n",
    "        \n",
    "        mat_list1 = [I]*(N-1)\n",
    "        mat_list2 = [I]*(N-1)\n",
    "        mat_list1[i] = Hp1\n",
    "        mat_list2[i] = Hp2\n",
    "        \n",
    "        H1 = mat_list1[0]\n",
    "        H2 = mat_list2[0]\n",
    "        \n",
    "        for j in range(N-2):\n",
    "            H1 = tensor(H1,mat_list1[j+1])\n",
    "            H2 = tensor(H2,mat_list2[j+1])\n",
    "        \n",
    "        result = mesolve(H1, psi, times,[], [])\n",
    "        psi = result.states[-1]\n",
    "        \n",
    "        result = mesolve(H2, psi, times,[], [])\n",
    "        psi = result.states[-1]\n",
    "    \n",
    "    return psi"
   ]
  },
  {
   "cell_type": "markdown",
   "id": "local-gateway",
   "metadata": {},
   "source": [
    "### N-qubit chain correctness behaviour"
   ]
  },
  {
   "cell_type": "code",
   "execution_count": 6,
   "id": "golden-performer",
   "metadata": {
    "ExecuteTime": {
     "end_time": "2021-03-02T16:47:01.052970Z",
     "start_time": "2021-03-02T16:47:00.980030Z"
    },
    "scrolled": false
   },
   "outputs": [
    {
     "name": "stdout",
     "output_type": "stream",
     "text": [
      "Quantum object: dims = [[3, 3], [1, 1]], shape = (9, 1), type = ket\n",
      "Qobj data =\n",
      "[[ 0.00000000e+00+0.00000000e+00j]\n",
      " [ 0.00000000e+00+0.00000000e+00j]\n",
      " [ 0.00000000e+00+0.00000000e+00j]\n",
      " [ 0.00000000e+00+0.00000000e+00j]\n",
      " [-4.91098443e-02+9.98793384e-01j]\n",
      " [-9.74193650e-06-2.41084010e-06j]\n",
      " [ 0.00000000e+00+0.00000000e+00j]\n",
      " [-9.74193650e-06-2.41084010e-06j]\n",
      " [ 0.00000000e+00+0.00000000e+00j]]\n"
     ]
    }
   ],
   "source": [
    "# Parameters\n",
    "Omega   = 1\n",
    "frac_DO = 0.377371\n",
    "prod_Ot = 4.29268\n",
    "Delta = frac_DO * Omega\n",
    "tau = prod_Ot / Omega\n",
    "\n",
    "N = 2 # number of qubits\n",
    "state_first = 1\n",
    "state_last = 1\n",
    "psi_init = chain_init(N,state_first,state_last)\n",
    "\n",
    "niter = 50\n",
    "psi_res = chain_CZ_gate(psi_init,Omega,Delta,tau,niter)\n",
    "\n",
    "print(psi_res)"
   ]
  },
  {
   "cell_type": "markdown",
   "id": "proper-chester",
   "metadata": {
    "ExecuteTime": {
     "end_time": "2021-02-25T17:54:41.798197Z",
     "start_time": "2021-02-25T17:54:41.795609Z"
    }
   },
   "source": [
    "### Figure of merit as a function of $\\Omega\\tau$ (N=2 qubit)"
   ]
  },
  {
   "cell_type": "code",
   "execution_count": 7,
   "id": "dutch-makeup",
   "metadata": {
    "ExecuteTime": {
     "end_time": "2021-03-02T16:47:12.349928Z",
     "start_time": "2021-03-02T16:47:09.092381Z"
    }
   },
   "outputs": [],
   "source": [
    "# Parameters\n",
    "Omega   = 1\n",
    "frac_DO = 0.377371\n",
    "prod_Ot = 4.29268\n",
    "Delta = frac_DO * Omega\n",
    "tau = prod_Ot / Omega\n",
    "\n",
    "# State initialization\n",
    "N = 2 # number of qubits\n",
    "state_first = 1\n",
    "state_last = 1\n",
    "psi_init = chain_init(N,state_first,state_last)\n",
    "\n",
    "# State evolution\n",
    "numbers = np.linspace(0.1,2*tau,100)\n",
    "prod_Ot_list = [i for i in numbers]\n",
    "\n",
    "err_list = []\n",
    "phase_list = []\n",
    "\n",
    "for tt in prod_Ot_list:\n",
    "    tau = tt/Omega\n",
    "    psi_res = chain_CZ_gate(psi_init,Omega,Delta,tau,50)\n",
    "    err_list.append( 1-fidelity(psi_res,psi_init) )\n",
    "    number = np.conj(psi_res[4][0][0])\n",
    "    phase_list.append( phase_func( number ) )\n",
    "    \n",
    "phase_in_radians = [val*radians for val in phase_list]"
   ]
  },
  {
   "cell_type": "code",
   "execution_count": 8,
   "id": "expressed-spell",
   "metadata": {
    "ExecuteTime": {
     "end_time": "2021-03-02T16:47:17.201435Z",
     "start_time": "2021-03-02T16:47:12.963535Z"
    }
   },
   "outputs": [
    {
     "data": {
      "image/png": "[encoded data removed]",
      "text/plain": [
       "<Figure size 576x432 with 2 Axes>"
      ]
     },
     "metadata": {
      "needs_background": "light"
     },
     "output_type": "display_data"
    }
   ],
   "source": [
    "# Plot\n",
    "\n",
    "fig, ax1 = plt.subplots(1,1, figsize=(8,6))\n",
    "\n",
    "ax2 = ax1.twinx() \n",
    "\n",
    "i1 = 0\n",
    "i2 = 3\n",
    "\n",
    "ax2.plot(prod_Ot_list, phase_in_radians, color=col[i2], ls='--', lw='2', yunits=radians) \n",
    "ax1.plot(prod_Ot_list, err_list, color=col[i1], ls='-', lw='2', yunits=radians)  \n",
    "\n",
    "ax1.plot(4.29268,0.001,'.', marker=\".\", markersize=10, color=col[1])\n",
    "ax1.text(4.1,0.025,r'$\\Omega\\tau^*$',fontsize=16,color=col[1])\n",
    "\n",
    "ax1.set_xlabel(r'$\\Omega \\tau$', fontsize=16);\n",
    "\n",
    "ax1.set_ylabel(r'$\\epsilon$', fontsize=16, color=col[i1])\n",
    "ax1.tick_params(axis='y', labelcolor=col[i1], labelsize=14)\n",
    "\n",
    "ax2.set_ylabel(r'\\bf{Phase [rad]}', fontsize=16, color=col[i2])\n",
    "ax2.tick_params(axis='y', labelcolor=col[i2], labelsize=14)\n",
    "\n",
    "ax1.grid(color='0.9')\n",
    "\n",
    "plt.savefig(\"plots/epsilon-phase_omega-tau.pdf\", bbox_inches='tight')\n",
    "plt.show()"
   ]
  },
  {
   "cell_type": "markdown",
   "id": "polyphonic-cliff",
   "metadata": {},
   "source": [
    "### Figure of merit as a function of $\\Delta/\\Omega$ (N=2 qubit)"
   ]
  },
  {
   "cell_type": "code",
   "execution_count": 10,
   "id": "homeless-cycling",
   "metadata": {
    "ExecuteTime": {
     "end_time": "2021-03-02T16:47:32.233158Z",
     "start_time": "2021-03-02T16:47:30.863756Z"
    }
   },
   "outputs": [],
   "source": [
    "# Parameters\n",
    "Omega   = 1\n",
    "frac_DO = 0.377371\n",
    "prod_Ot = 4.29268\n",
    "Delta = frac_DO * Omega\n",
    "tau = prod_Ot / Omega\n",
    "\n",
    "# State initialization\n",
    "N = 2 # number of qubits\n",
    "state_first = 1\n",
    "state_last = 1\n",
    "psi_init = chain_init(N,state_first,state_last)\n",
    "\n",
    "# State evolution\n",
    "frac_DO_list = np.linspace(0,1.7,50)\n",
    "\n",
    "err_list = []\n",
    "phase_list = []\n",
    "\n",
    "for ff in frac_DO_list:\n",
    "    \n",
    "    Delta = ff * Omega \n",
    "    psi_res = chain_CZ_gate(psi_init,Omega,Delta,tau,50)\n",
    "    err_list.append( 1-fidelity(psi_res,psi_init) )\n",
    "    number = np.conj(psi_res[4][0][0])\n",
    "    phase_list.append( phase_func( number ) )\n",
    "    \n",
    "phase_in_radians = [val*radians for val in phase_list]"
   ]
  },
  {
   "cell_type": "code",
   "execution_count": 11,
   "id": "above-talent",
   "metadata": {
    "ExecuteTime": {
     "end_time": "2021-03-02T16:47:33.059790Z",
     "start_time": "2021-03-02T16:47:32.285941Z"
    },
    "scrolled": false
   },
   "outputs": [
    {
     "data": {
      "image/png": "[encoded data removed]",
      "text/plain": [
       "<Figure size 576x432 with 2 Axes>"
      ]
     },
     "metadata": {
      "needs_background": "light"
     },
     "output_type": "display_data"
    }
   ],
   "source": [
    "# Plot\n",
    "\n",
    "fig, ax1 = plt.subplots(1,1, figsize=(8,6))\n",
    "\n",
    "ax2 = ax1.twinx()\n",
    "\n",
    "i1 = 0\n",
    "i2 = 3\n",
    "\n",
    "ax2.plot(frac_DO_list, np.array(phase_in_radians), color=col[i2], ls='--', lw='2', yunits=radians) \n",
    "ax1.plot(frac_DO_list, np.array(err_list), color=col[i1], ls='-', lw='2', yunits=radians)  \n",
    "\n",
    "ax1.plot(0.377,0.0005,'.', marker=\".\", markersize=10, color=col[1])\n",
    "ax1.text(0.36,0.01,r'$\\frac{\\Delta}{\\Omega}^*$',fontsize=16,color=col[1])\n",
    "\n",
    "ax1.set_xlabel(r'$\\Delta/\\Omega$', fontsize=16);\n",
    "\n",
    "ax1.set_ylabel(r'$\\epsilon$', fontsize=16, color=col[i1])\n",
    "ax1.tick_params(axis='y', labelcolor=col[i1], labelsize=14)\n",
    "\n",
    "ax2.set_ylabel(r'\\bf{Phase [rad]}', fontsize=16, color=col[i2])\n",
    "ax2.tick_params(axis='y', labelcolor=col[i2], labelsize=14)\n",
    "\n",
    "ax1.grid(color='0.9')\n",
    "\n",
    "plt.savefig(\"plots/epsilon-phase_delta-omega.pdf\", bbox_inches='tight')\n",
    "plt.show()"
   ]
  },
  {
   "cell_type": "markdown",
   "id": "chronic-object",
   "metadata": {
    "heading_collapsed": true
   },
   "source": [
    "### Gaussian error on  $\\tau$ propagated through the N-qubit chain"
   ]
  },
  {
   "cell_type": "code",
   "execution_count": 102,
   "id": "controversial-storm",
   "metadata": {
    "ExecuteTime": {
     "end_time": "2021-02-28T11:05:42.506215Z",
     "start_time": "2021-02-28T11:05:42.496358Z"
    },
    "hidden": true
   },
   "outputs": [],
   "source": [
    "def chain_CZ_gate_error_tau(psi,Omega,Delta,tau,niter,sigma):\n",
    "        \n",
    "    N = len(dims(psi)[0]) # Number of qubits in the chain\n",
    "    I = qeye(3) # Define identity matrix\n",
    "    \n",
    "    tau_star = tau\n",
    "    \n",
    "    for i in range(N-1):\n",
    "        \n",
    "        tau1 = tau_star + np.random.normal(0,sigma) \n",
    "        times1 = np.linspace(0.0, tau1, niter)\n",
    "        \n",
    "        tau2 = tau_star + np.random.normal(0,sigma) \n",
    "        times2 = np.linspace(0.0, tau2, niter)\n",
    "        \n",
    "        if i==0:\n",
    "            H1 = Qobj( hamiltonian(Omega,Delta), dims= [[3, 3, 3], [3, 3, 3]] )\n",
    "            H2 = Qobj( hamiltonian(Omega * exp_xi(Delta,Omega,tau2), Delta) , dims= [[3, 3, 3], [3, 3, 3]] )\n",
    "        else:\n",
    "            H1 = I\n",
    "            H2 = I\n",
    "        \n",
    "        for j in range(N-2):\n",
    "        \n",
    "            if j==(i-1):\n",
    "        \n",
    "                Hp1 = Qobj( hamiltonian(Omega,Delta), dims= [[3, 3, 3], [3, 3, 3]] )\n",
    "                Hp2 = Qobj( hamiltonian(Omega * exp_xi(Delta,Omega,tau2), Delta) , dims= [[3, 3, 3], [3, 3, 3]] )\n",
    "                \n",
    "                H1 = tensor(H1,Hp1)                \n",
    "                H2 = tensor(H2,Hp2)\n",
    "            else:\n",
    "                H1 = tensor(H1,I)\n",
    "                H2 = tensor(H2,I)\n",
    "        \n",
    "        result = mesolve(H1, psi, times1,[], [])\n",
    "        psi = result.states[-1]\n",
    "        \n",
    "\n",
    "        result = mesolve(H2, psi, times2,[], [])\n",
    "        psi = result.states[-1]\n",
    "    \n",
    "    return psi"
   ]
  },
  {
   "cell_type": "code",
   "execution_count": 12,
   "id": "convinced-binding",
   "metadata": {
    "ExecuteTime": {
     "end_time": "2021-02-26T14:53:22.988116Z",
     "start_time": "2021-02-26T14:53:22.835862Z"
    },
    "hidden": true
   },
   "outputs": [],
   "source": [
    "# Parameters\n",
    "Omega   = 1\n",
    "frac_DO = 0.377371\n",
    "prod_Ot = 4.29268\n",
    "Delta = frac_DO * Omega\n",
    "tau = prod_Ot / Omega\n",
    "\n",
    "N = 3 # number of qubits\n",
    "state_first = 1\n",
    "state_last = 1\n",
    "psi_init = chain_init(N,state_first,state_last)\n",
    "\n",
    "psi_res = chain_CZ_gate_error_tau(psi_init,Omega,Delta,tau,50,0)\n",
    "\n",
    "#print(psi_res)"
   ]
  },
  {
   "cell_type": "code",
   "execution_count": null,
   "id": "assured-worthy",
   "metadata": {
    "hidden": true
   },
   "outputs": [],
   "source": [
    "# Parameters\n",
    "Omega   = 1\n",
    "frac_DO = 0.377371\n",
    "prod_Ot = 4.29268\n",
    "Delta = frac_DO * Omega\n",
    "tau = prod_Ot / Omega\n",
    "\n",
    "sigma_list = np.linspace(0.01,0.1,10)\n",
    "\n",
    "ntimes = 100\n",
    "niter = 20\n",
    "N_qubits = [5]\n",
    "\n",
    "for nq in N_qubits:\n",
    "    \n",
    "    filename = 'err_tau_'+str(nq)+'.txt'\n",
    "    psi_init = chain_init(nq,1,1)\n",
    "    \n",
    "    if os.path.exists(filename): \n",
    "        os.remove(filename)\n",
    "\n",
    "    for ss in range(len(sigma_list)):\n",
    "        \n",
    "        print(nq,ss)\n",
    "        \n",
    "        err = []\n",
    "        \n",
    "        for nn in range(ntimes):\n",
    "            \n",
    "            psi_fin = chain_CZ_gate_error_tau(psi_init,Omega,Delta,tau,niter,sigma_list[ss]*tau)\n",
    "            \n",
    "            err.append(1-fidelity(psi_fin,psi_init))\n",
    "            \n",
    "        mean = np.mean(err)\n",
    "        std = np.std(err)/np.sqrt(ntimes)\n",
    "            \n",
    "        with open(filename, \"a\") as f:\n",
    "            writer = csv.writer(f)\n",
    "            writer.writerow((sigma_list[ss], mean, std))"
   ]
  },
  {
   "cell_type": "code",
   "execution_count": 238,
   "id": "asian-scientist",
   "metadata": {
    "ExecuteTime": {
     "end_time": "2021-03-01T17:57:43.201260Z",
     "start_time": "2021-03-01T17:57:40.124811Z"
    },
    "hidden": true
   },
   "outputs": [
    {
     "data": {
      "image/png": "[encoded data removed]",
      "text/plain": [
       "<Figure size 576x432 with 1 Axes>"
      ]
     },
     "metadata": {
      "needs_background": "light"
     },
     "output_type": "display_data"
    }
   ],
   "source": [
    "head = [\"sigma\",\"epsilon\",\"err\"]\n",
    "\n",
    "df2 = pd.read_csv('./results/err_tau_2.txt', header=None, names=head)\n",
    "df3 = pd.read_csv('./results/err_tau_3.txt', header=None, names=head)\n",
    "df4 = pd.read_csv('./results/err_tau_4.txt', header=None, names=head)\n",
    "df5 = pd.read_csv('./results/err_tau_5.txt', header=None, names=head)\n",
    "\n",
    "# Plot\n",
    "fig, ax1 = plt.subplots(1,1, figsize=(8,6))\n",
    "\n",
    "i2 = 0\n",
    "i3 = 1\n",
    "i4 = 2\n",
    "i5 = 3\n",
    "\n",
    "ax1.errorbar(df2['sigma']*100, df2['diff'], yerr=df2['err'], fmt='-o', markerfacecolor=col[i2], \n",
    "            color=col[i2], ecolor=col[i2],label=r'\\bf{N=2}',alpha=1,markersize=5)\n",
    "\n",
    "ax1.errorbar(df3['sigma']*100, df3['epsilon'], yerr=df3['err'], fmt='-o', markerfacecolor=col[i3], \n",
    "            color=col[i3], ecolor=col[i3],label=r'\\bf{N=3}',alpha=1,markersize=5)\n",
    "\n",
    "ax1.errorbar(df4['sigma']*100, df4['epsilon'], yerr=df4['err'], fmt='-o', markerfacecolor=col[i4], \n",
    "            color=col[i4], ecolor=col[i4],label=r'\\bf{N=4}',alpha=1,markersize=5)\n",
    "\n",
    "ax1.errorbar(df5['sigma']*100, df5['epsilon'], yerr=df5['err'], fmt='-o', markerfacecolor=col[i5], \n",
    "            color=col[i5], ecolor=col[i5],label=r'\\bf{N=5}',alpha=1,markersize=5)\n",
    "\n",
    "ax1.set_xlabel(r'$\\%$ $\\sigma$ ', fontsize=16);\n",
    "ax1.set_ylabel(r'$\\epsilon$', fontsize=16)\n",
    "ax1.grid(color='0.9')\n",
    "plt.ticklabel_format(axis='y', style='sci', scilimits=(0,0))\n",
    "plt.legend(loc='upper left',fontsize=16)\n",
    "plt.savefig(\"plots/chain_sigma_tau.pdf\", bbox_inches='tight')"
   ]
  },
  {
   "cell_type": "markdown",
   "id": "novel-reflection",
   "metadata": {
    "ExecuteTime": {
     "end_time": "2021-02-25T21:42:36.031814Z",
     "start_time": "2021-02-25T21:42:35.991407Z"
    },
    "heading_collapsed": true
   },
   "source": [
    "### Gaussian error on  $\\Delta/\\Omega$ propagated through the N-qubit chain"
   ]
  },
  {
   "cell_type": "code",
   "execution_count": 115,
   "id": "small-projection",
   "metadata": {
    "ExecuteTime": {
     "end_time": "2021-02-28T11:16:26.262610Z",
     "start_time": "2021-02-28T11:16:26.251975Z"
    },
    "hidden": true
   },
   "outputs": [],
   "source": [
    "def chain_CZ_gate_error_delta(psi,Omega,Delta,tau,niter,sigma):\n",
    "        \n",
    "    N = len(dims(psi)[0]) # Number of qubits in the chain\n",
    "    I = qeye(3) # Define identity matrix\n",
    "    times = np.linspace(0.0, tau, niter)\n",
    "    \n",
    "    Delta_star = Delta\n",
    "    \n",
    "    for i in range(N-1):\n",
    "        \n",
    "        Delta1 = Delta_star + np.random.normal(0,sigma) \n",
    "        Delta2 = Delta_star + np.random.normal(0,sigma) \n",
    "        \n",
    "        if i==0:\n",
    "            H1 = Qobj( hamiltonian(Omega,Delta1), dims= [[3, 3, 3], [3, 3, 3]] )\n",
    "            H2 = Qobj( hamiltonian(Omega * exp_xi(Delta2,Omega,tau), Delta2) , dims= [[3, 3, 3], [3, 3, 3]] )\n",
    "        else:\n",
    "            H1 = I\n",
    "            H2 = I\n",
    "        \n",
    "        for j in range(N-2):\n",
    "        \n",
    "            if j==(i-1):\n",
    "        \n",
    "                Hp1 = Qobj( hamiltonian(Omega,Delta1), dims= [[3, 3, 3], [3, 3, 3]] )\n",
    "                Hp2 = Qobj( hamiltonian(Omega * exp_xi(Delta2,Omega,tau), Delta2) , dims= [[3, 3, 3], [3, 3, 3]] )\n",
    "                \n",
    "                H1 = tensor(H1,Hp1)                \n",
    "                H2 = tensor(H2,Hp2)\n",
    "            else:\n",
    "                H1 = tensor(H1,I)\n",
    "                H2 = tensor(H2,I)\n",
    "        \n",
    "        result = mesolve(H1, psi, times,[], [])\n",
    "        psi = result.states[-1]\n",
    "        \n",
    "        result = mesolve(H2, psi, times,[], [])\n",
    "        psi = result.states[-1]\n",
    "    \n",
    "    return psi"
   ]
  },
  {
   "cell_type": "markdown",
   "id": "supposed-detroit",
   "metadata": {
    "ExecuteTime": {
     "end_time": "2021-03-02T08:57:29.817081Z",
     "start_time": "2021-03-02T08:57:29.806244Z"
    },
    "hidden": true
   },
   "source": [
    "#### $\\epsilon$"
   ]
  },
  {
   "cell_type": "code",
   "execution_count": 128,
   "id": "worthy-ecology",
   "metadata": {
    "ExecuteTime": {
     "end_time": "2021-02-28T11:26:15.162374Z",
     "start_time": "2021-02-28T11:24:46.995966Z"
    },
    "hidden": true,
    "scrolled": true
   },
   "outputs": [
    {
     "name": "stdout",
     "output_type": "stream",
     "text": [
      "5 0\n",
      "5 1\n",
      "5 2\n",
      "5 3\n",
      "5 4\n",
      "5 5\n",
      "5 6\n",
      "5 7\n",
      "5 8\n",
      "5 9\n"
     ]
    }
   ],
   "source": [
    "# Parameters\n",
    "Omega   = 1\n",
    "frac_DO = 0.377371\n",
    "prod_Ot = 4.29268\n",
    "Delta = frac_DO * Omega\n",
    "tau = prod_Ot / Omega\n",
    "\n",
    "sigma_list = np.linspace(0.01,0.1,10)\n",
    "\n",
    "ntimes = 100\n",
    "niter = 20\n",
    "N_qubits = [5]\n",
    "\n",
    "for nq in N_qubits:\n",
    "    \n",
    "    filename = 'err_delta_'+str(nq)+'.txt'\n",
    "    psi_init = chain_init(nq,1,1)\n",
    "    \n",
    "    if os.path.exists(filename): \n",
    "        os.remove(filename)\n",
    "\n",
    "    for ss in range(len(sigma_list)):\n",
    "        \n",
    "        print(nq,ss)\n",
    "        \n",
    "        err = []\n",
    "        \n",
    "        for nn in range(ntimes):\n",
    "            \n",
    "            psi_fin = chain_CZ_gate_error_delta(psi_init,Omega,Delta,tau,niter,sigma_list[ss]*Delta)\n",
    "            \n",
    "            err.append(1-fidelity(psi_fin,psi_init))\n",
    "            \n",
    "        mean = np.mean(err)\n",
    "        std = np.std(err)/np.sqrt(ntimes)\n",
    "            \n",
    "        with open(filename, \"a\") as f:\n",
    "            writer = csv.writer(f)\n",
    "            writer.writerow((sigma_list[ss], mean, std))"
   ]
  },
  {
   "cell_type": "code",
   "execution_count": 237,
   "id": "floral-japanese",
   "metadata": {
    "ExecuteTime": {
     "end_time": "2021-03-01T17:57:34.772691Z",
     "start_time": "2021-03-01T17:57:32.373061Z"
    },
    "hidden": true
   },
   "outputs": [
    {
     "data": {
      "image/png": "[encoded data removed]",
      "text/plain": [
       "<Figure size 576x432 with 1 Axes>"
      ]
     },
     "metadata": {
      "needs_background": "light"
     },
     "output_type": "display_data"
    }
   ],
   "source": [
    "head = [\"sigma\",\"epsilon\",\"err\"]\n",
    "\n",
    "df2 = pd.read_csv('./results/err_delta_2.txt', header=None, names=head)\n",
    "df3 = pd.read_csv('./results/err_delta_3.txt', header=None, names=head)\n",
    "df4 = pd.read_csv('./results/err_delta_4.txt', header=None, names=head)\n",
    "df5 = pd.read_csv('./results/err_delta_5.txt', header=None, names=head)\n",
    "\n",
    "# Plot\n",
    "fig, ax1 = plt.subplots(1,1, figsize=(8,6))\n",
    "\n",
    "i2 = 0\n",
    "i3 = 1\n",
    "i4 = 2\n",
    "i5 = 3\n",
    "\n",
    "ax1.errorbar(df2['sigma']*100, df2['epsilon'], yerr=df2['err'], fmt='-o', markerfacecolor=col[i2], \n",
    "            color=col[i2], ecolor=col[i2],label=r'\\bf{N=2}',alpha=1,markersize=5)\n",
    "\n",
    "ax1.errorbar(df3['sigma']*100, df3['epsilon'], yerr=df3['err'], fmt='-o', markerfacecolor=col[i3], \n",
    "            color=col[i3], ecolor=col[i3],label=r'\\bf{N=3}',alpha=1,markersize=5)\n",
    "\n",
    "ax1.errorbar(df4['sigma']*100, df4['epsilon'], yerr=df4['err'], fmt='-o', markerfacecolor=col[i4], \n",
    "            color=col[i4], ecolor=col[i4],label=r'\\bf{N=4}',alpha=1,markersize=5)\n",
    "\n",
    "ax1.errorbar(df5['sigma']*100, df5['epsilon'], yerr=df5['err'], fmt='-o', markerfacecolor=col[i5], \n",
    "            color=col[i5], ecolor=col[i5],label=r'\\bf{N=5}',alpha=1,markersize=5)\n",
    "\n",
    "ax1.set_xlabel(r'$\\%$ $\\sigma$', fontsize=16);\n",
    "ax1.set_ylabel(r'$\\epsilon$', fontsize=16)\n",
    "ax1.grid(color='0.9')\n",
    "plt.ticklabel_format(axis='y', style='sci', scilimits=(0,0))\n",
    "plt.legend(loc='upper left',fontsize=16)\n",
    "plt.savefig(\"plots/chain_sigma_delta.pdf\", bbox_inches='tight')"
   ]
  },
  {
   "cell_type": "markdown",
   "id": "unavailable-calvin",
   "metadata": {
    "hidden": true
   },
   "source": [
    "#### phase"
   ]
  },
  {
   "cell_type": "code",
   "execution_count": 353,
   "id": "technical-balloon",
   "metadata": {
    "ExecuteTime": {
     "end_time": "2021-03-02T12:33:23.063791Z",
     "start_time": "2021-03-02T12:33:22.694252Z"
    },
    "hidden": true
   },
   "outputs": [
    {
     "name": "stdout",
     "output_type": "stream",
     "text": [
      "01 3.9024299052023785\n",
      "11 1.5216745032226964\n",
      "diff: 3.1415926535922676\n",
      "psi11: (0.04910207116825363-0.9987937656519829j)\n"
     ]
    }
   ],
   "source": [
    "# Parameters\n",
    "Omega   = 1\n",
    "frac_DO = 0.377371\n",
    "prod_Ot = 4.29268\n",
    "Delta = frac_DO * Omega\n",
    "tau = prod_Ot / Omega\n",
    "\n",
    "ntimes = 1\n",
    "niter = 20\n",
    "\n",
    "N = 3\n",
    "sigma = 0.0\n",
    "\n",
    "psi_init = chain_init(N,1,1)\n",
    "psi_fin = chain_CZ_gate_error_delta(psi_init,Omega,Delta,tau,niter,sigma*Delta)\n",
    "psi_fin_11 = psi_fin \n",
    "\n",
    "phase_11 = phase_func( np.conj(psi_fin[int(3**(N-1)+1)][0][0]) )\n",
    "\n",
    "psi_init = chain_init(N,0,1)\n",
    "psi_fin = chain_CZ_gate_error_delta(psi_init,Omega,Delta,tau,niter,sigma*Delta)\n",
    "\n",
    "phase_01 = phase_func( np.conj(psi_fin[1][0][0]) ) \n",
    "\n",
    "print('01',phase_01)\n",
    "print('11',phase_11)\n",
    "print('diff:',  2 * phase_01 - np.pi - phase_11 )\n",
    "\n",
    "print('psi11:',psi_fin_11[int(3**(N-1)+1)][0][0])"
   ]
  },
  {
   "cell_type": "code",
   "execution_count": 356,
   "id": "adjustable-birmingham",
   "metadata": {
    "ExecuteTime": {
     "end_time": "2021-03-02T12:40:14.171840Z",
     "start_time": "2021-03-02T12:34:23.687921Z"
    },
    "hidden": true
   },
   "outputs": [
    {
     "name": "stdout",
     "output_type": "stream",
     "text": [
      "5 0\n",
      "5 1\n",
      "5 2\n",
      "5 3\n",
      "5 4\n",
      "5 5\n",
      "5 6\n",
      "5 7\n",
      "5 8\n",
      "5 9\n",
      "5 10\n"
     ]
    }
   ],
   "source": [
    "# Parameters\n",
    "Omega   = 1\n",
    "frac_DO = 0.377371\n",
    "prod_Ot = 4.29268\n",
    "Delta = frac_DO * Omega\n",
    "tau = prod_Ot / Omega\n",
    "\n",
    "sigma_list = np.linspace(0.0,0.1,11)\n",
    "\n",
    "ntimes = 100\n",
    "niter = 20\n",
    "N_qubits = [5]\n",
    "\n",
    "for nq in N_qubits:\n",
    "    \n",
    "    filename = 'phase_delta_'+str(nq)+'.txt'\n",
    "    psi_init_01 = chain_init(nq,0,1)\n",
    "    psi_init_11 = chain_init(nq,1,1)\n",
    "    \n",
    "    if os.path.exists(filename): \n",
    "        os.remove(filename)\n",
    "\n",
    "    for ss in range(len(sigma_list)):\n",
    "        \n",
    "        print(nq,ss)\n",
    "        \n",
    "        phase_01 = []\n",
    "        phase_11 = []\n",
    "        \n",
    "        for nn in range(ntimes):\n",
    "            \n",
    "            psi_fin_01 = chain_CZ_gate_error_delta(psi_init_01,Omega,Delta,tau,niter,sigma_list[ss]*Delta)\n",
    "            psi_fin_11 = chain_CZ_gate_error_delta(psi_init_11,Omega,Delta,tau,niter,sigma_list[ss]*Delta)\n",
    "\n",
    "            number_01 = np.conj(psi_fin_01[1][0][0])\n",
    "            number_11 = np.conj(psi_fin_11[int(3**(nq-1)+1)][0][0])      \n",
    "            \n",
    "            phase_01.append( phase_func( number_01 ) )\n",
    "            phase_11.append( phase_func( number_11 ) )\n",
    "          \n",
    "        \n",
    "        mean_01 = np.mean(phase_01)\n",
    "        std_01 = np.std(phase_01)/np.sqrt(ntimes)\n",
    "\n",
    "        mean_11 = np.mean(phase_11)\n",
    "        std_11 = np.std(phase_11)/np.sqrt(ntimes)\n",
    "        \n",
    "        diff = 2*mean_01 - np.pi - mean_11\n",
    "        std_diff = np.sqrt(std_11**2+std_01**2)\n",
    "        \n",
    "        with open(filename, \"a\") as f:\n",
    "            writer = csv.writer(f)\n",
    "            writer.writerow((sigma_list[ss], diff, std_diff))"
   ]
  },
  {
   "cell_type": "code",
   "execution_count": 361,
   "id": "curious-destination",
   "metadata": {
    "ExecuteTime": {
     "end_time": "2021-03-02T12:50:54.622844Z",
     "start_time": "2021-03-02T12:50:49.090691Z"
    },
    "hidden": true
   },
   "outputs": [
    {
     "data": {
      "image/png": "[encoded data removed]",
      "text/plain": [
       "<Figure size 576x432 with 1 Axes>"
      ]
     },
     "metadata": {
      "needs_background": "light"
     },
     "output_type": "display_data"
    }
   ],
   "source": [
    "head = [\"sigma\",\"diff\",\"err\"]\n",
    "\n",
    "df2 = pd.read_csv('./results/phase_delta_2.txt', header=None, names=head)\n",
    "df3 = pd.read_csv('./results/phase_delta_3.txt', header=None, names=head)\n",
    "df4 = pd.read_csv('./results/phase_delta_4.txt', header=None, names=head)\n",
    "df5 = pd.read_csv('./results/phase_delta_5.txt', header=None, names=head)\n",
    "\n",
    "# Plot\n",
    "fig, ax1 = plt.subplots(1,1, figsize=(8,6))\n",
    "\n",
    "i2 = 0\n",
    "i3 = 1\n",
    "i4 = 2\n",
    "i5 = 3\n",
    "\n",
    "ax1.errorbar(df2['sigma']*100, df2['diff'], yerr=df2['err'], fmt='-o', markerfacecolor=col[i2],\n",
    "             color=col[i2], ecolor=col[i2],label=r'\\bf{N=2}',alpha=1,markersize=5)\n",
    "\n",
    "ax1.errorbar(df3['sigma']*100, df3['diff']-np.pi, yerr=df3['err'], fmt='-o', markerfacecolor=col[i3], \n",
    "            color=col[i3], ecolor=col[i3],label=r'\\bf{N=3}',alpha=1,markersize=5)\n",
    "\n",
    "ax1.errorbar(df4['sigma']*100, df4['diff']-np.pi, yerr=df4['err'], fmt='-o', markerfacecolor=col[i4], \n",
    "            color=col[i4], ecolor=col[i4],label=r'\\bf{N=4}',alpha=1,markersize=5)\n",
    "\n",
    "ax1.errorbar(df5['sigma']*100, df5['diff']-np.pi, yerr=df5['err'], fmt='-o', markerfacecolor=col[i5], \n",
    "            color=col[i5], ecolor=col[i5],label=r'\\bf{N=5}',alpha=1,markersize=5)\n",
    "\n",
    "ax1.set_xlabel(r'$\\%$ $\\sigma$', fontsize=16);\n",
    "ax1.set_ylabel(r'$ 2\\phi_{01} - \\pi - \\phi_{11}$  \\bf{[rad]}', fontsize=16)\n",
    "ax1.grid(color='0.9')\n",
    "plt.ticklabel_format(axis='y', style='sci', scilimits=(0,0))\n",
    "plt.legend(loc='upper left',fontsize=16)\n",
    "plt.savefig(\"plots/chain_phase_sigma_delta.pdf\", bbox_inches='tight')"
   ]
  },
  {
   "cell_type": "markdown",
   "id": "scheduled-contact",
   "metadata": {
    "heading_collapsed": true
   },
   "source": [
    "### Measurement of a two-qubit system with noise on $\\tau$ and $\\Delta$"
   ]
  },
  {
   "cell_type": "code",
   "execution_count": 18,
   "id": "wooden-charity",
   "metadata": {
    "ExecuteTime": {
     "end_time": "2021-02-28T10:14:23.045523Z",
     "start_time": "2021-02-28T10:14:23.037694Z"
    },
    "hidden": true
   },
   "outputs": [],
   "source": [
    "# Function to find probability of configurations\n",
    "def prepareMeasurement(N, psi):\n",
    "    \n",
    "    confs = list(itertools.product([0, 1, 2], repeat=N))\n",
    "    P = []\n",
    "    \n",
    "    for conf in confs:\n",
    "        psi_ref = tensor([basis(3, m) for m in conf])\n",
    "        p = np.abs(psi.overlap(psi_ref))**2.\n",
    "        P.append(p)\n",
    "    return confs, np.array(P)\n",
    "\n",
    "# Function to simulate measurement process\n",
    "def simulateMeasurement(confs, P, n):\n",
    "    return np.random.choice(range(len(confs)), n, p=P)"
   ]
  },
  {
   "cell_type": "code",
   "execution_count": 188,
   "id": "brilliant-vienna",
   "metadata": {
    "ExecuteTime": {
     "end_time": "2021-03-01T15:13:54.408428Z",
     "start_time": "2021-03-01T15:13:26.280194Z"
    },
    "hidden": true
   },
   "outputs": [],
   "source": [
    "# Fix parameters\n",
    "Omega   = 1\n",
    "frac_DO = 0.377371\n",
    "prod_Ot = 4.29268\n",
    "\n",
    "# State initialization\n",
    "N = 2 # number of qubits\n",
    "state_first = 1\n",
    "state_last = 1\n",
    "psi_init = chain_init(N,state_first,state_last)\n",
    "\n",
    "# Run several times with gaussian noise on parameters\n",
    "niter = 30\n",
    "sigma = 0.01\n",
    "n_trials = 1000 \n",
    "psi_list = []\n",
    "\n",
    "for nn in range(n_trials):\n",
    "    \n",
    "    Delta = frac_DO + np.random.normal(0.,sigma*frac_DO)\n",
    "    tau = prod_Ot + np.random.normal(0.,sigma*prod_Ot)\n",
    "\n",
    "    psi_fin = chain_CZ_gate(psi_init,Omega,Delta,tau,niter)\n",
    "    psi_list.append(psi_fin)\n"
   ]
  },
  {
   "cell_type": "code",
   "execution_count": 189,
   "id": "neural-syntax",
   "metadata": {
    "ExecuteTime": {
     "end_time": "2021-03-01T15:14:09.149578Z",
     "start_time": "2021-03-01T15:14:05.346390Z"
    },
    "hidden": true
   },
   "outputs": [],
   "source": [
    "meas_list = []\n",
    "\n",
    "n_meas = 10000\n",
    "\n",
    "for psi in psi_list:\n",
    "    confs, P = prepareMeasurement(N, psi)\n",
    "    meas = list( simulateMeasurement(confs, P, n_meas) )\n",
    "    meas_list = meas_list + meas \n",
    "    \n",
    "unique, counts = np.unique(meas_list, return_counts=True)\n",
    "\n",
    "unique = list(unique) + [8]\n",
    "counts = list(counts) + [0]"
   ]
  },
  {
   "cell_type": "code",
   "execution_count": 191,
   "id": "solid-courtesy",
   "metadata": {
    "ExecuteTime": {
     "end_time": "2021-03-01T15:14:40.729693Z",
     "start_time": "2021-03-01T15:14:26.192672Z"
    },
    "hidden": true
   },
   "outputs": [
    {
     "data": {
      "image/png": "[encoded data removed]",
      "text/plain": [
       "<Figure size 576x432 with 1 Axes>"
      ]
     },
     "metadata": {
      "needs_background": "light"
     },
     "output_type": "display_data"
    }
   ],
   "source": [
    "fig, ax = plt.subplots(1,1, figsize=(8,6))\n",
    "\n",
    "ax.bar([0,1,2,3], height=counts,color=col[0])\n",
    "labels = [r\"$\\ket{11}$\",r\"$\\ket{1r}$\",r\"$\\ket{r1}$\",r\"$\\ket{rr}$\"]\n",
    "plt.xticks([0,1,2,3], labels)\n",
    "ax.set_ylim(10**3,10**(7.5))\n",
    "\n",
    "# USEFUL\n",
    "#base = [np.base_repr(n, base=3) for n in unique]\n",
    "#ax.bar(unique, height=counts,color=col[0])\n",
    "#plt.xticks(unique, [r\"$|{0}>$\".format(m) for m in base])\n",
    "\n",
    "ax.set_xlabel(r'\\bf{Configuration}',fontsize=16)\n",
    "ax.set_ylabel(r'\\bf{Counts}',fontsize=16)\n",
    "ax.set_yscale('log')\n",
    "plt.savefig(\"plots/noise_measurement_two-qubit.pdf\", bbox_inches='tight')\n",
    "plt.show()"
   ]
  },
  {
   "cell_type": "markdown",
   "id": "intended-intervention",
   "metadata": {},
   "source": [
    "## Imperfect blockade"
   ]
  },
  {
   "cell_type": "markdown",
   "id": "compliant-vanilla",
   "metadata": {
    "heading_collapsed": true
   },
   "source": [
    "### Functions definition"
   ]
  },
  {
   "cell_type": "code",
   "execution_count": 34,
   "id": "abandoned-coordinate",
   "metadata": {
    "ExecuteTime": {
     "end_time": "2021-02-28T10:18:48.950041Z",
     "start_time": "2021-02-28T10:18:48.939298Z"
    },
    "hidden": true
   },
   "outputs": [],
   "source": [
    "# Definition of the Hamiltonian for imperfect blockade regime\n",
    "def hamiltonian_imperfect(Omega,Delta,V):\n",
    "    \n",
    "    psi00 = basis(9,0)\n",
    "    psi01 = basis(9,1) \n",
    "    psi0r = basis(9,2)\n",
    "    psi10 = basis(9,3)\n",
    "    psi11 = basis(9,4) \n",
    "    psi1r = basis(9,5)\n",
    "    psir0 = basis(9,6)\n",
    "    psir1 = basis(9,7)\n",
    "    psirr = basis(9,8)\n",
    "\n",
    "    H0  = 0 * tensor(psi00.dag(),psi00)\n",
    "    \n",
    "    H01 = 1/2 * ( Omega * tensor(psi01.dag(),psi0r) + \n",
    "             np.conj(Omega) * tensor(psi0r.dag(),psi01) ) - Delta * tensor(psi0r.dag(),psi0r)\n",
    "    \n",
    "    H10 = 1/2 * ( Omega * tensor(psi10.dag(),psir0) + \n",
    "             np.conj(Omega) * tensor(psir0.dag(),psi10) ) - Delta * tensor(psir0.dag(),psir0)\n",
    "\n",
    "    H2  = np.sqrt(2)/2 * ( Omega * ( tensor(psi11.dag(),psir1) + tensor(psi11.dag(),psi1r) + \n",
    "                                    tensor(psi1r.dag(),psirr) + tensor(psir1.dag(),psirr) ) \n",
    "            + np.conj(Omega) * ( tensor(psir1.dag(),psi11) + tensor(psi1r.dag(),psi11) + \n",
    "                                tensor(psirr.dag(),psi1r) + tensor(psirr.dag(),psir1) ) \n",
    "            ) - Delta * ( tensor(psir1.dag(),psir1) + tensor(psir1.dag(),psi1r) \n",
    "                           + tensor(psi1r.dag(),psir1) + tensor(psi1r.dag(),psi1r)) + (V-2*Delta) * (tensor(psirr.dag(),psirr))\n",
    "\n",
    "    H = H0 + H01 + H10 + H2\n",
    "    \n",
    "    return H\n",
    "\n",
    "# Optimal phase between two pulse\n",
    "def exp_xi(Delta,Omega,tau):\n",
    "    \n",
    "    y = Delta/Omega\n",
    "    s = Omega * tau\n",
    "    \n",
    "    a = np.sqrt(y**2+1)\n",
    "    b = s*a/2\n",
    "    \n",
    "    return (a*np.cos(b) + 1j*y*np.sin(b)) / (-a*np.cos(b) + 1j*y*np.sin(b))"
   ]
  },
  {
   "cell_type": "code",
   "execution_count": 35,
   "id": "critical-version",
   "metadata": {
    "ExecuteTime": {
     "end_time": "2021-02-28T10:18:58.313075Z",
     "start_time": "2021-02-28T10:18:58.304598Z"
    },
    "hidden": true
   },
   "outputs": [],
   "source": [
    "# Implementation of two-qubit CZ gate\n",
    "def CZ_gate_imperfect(psi,Omega,Delta,tau,V):\n",
    "        \n",
    "    # Times discretization\n",
    "    times = np.linspace(0.0, tau, 200)\n",
    "    \n",
    "    # Apply first pulse (unitary evolution with Lindblad Master Equation Solver)\n",
    "    H = hamiltonian_imperfect(Omega,Delta,V)\n",
    "    result = mesolve(H, psi, times,[], [])\n",
    "    psi = result.states[-1]\n",
    "    \n",
    "    # Apply second pulse rotated by Omega -> Omega exp(i xi)\n",
    "    H = hamiltonian_imperfect(Omega * exp_xi(Delta,Omega,tau), Delta, V)\n",
    "    result = mesolve(H, psi, times,[], [])\n",
    "    psi = result.states[-1] \n",
    "        \n",
    "    return psi\n",
    "\n",
    "\n",
    "# System evolution under a single unitary pulse\n",
    "def evol_CZ_gate_imperfect(psi,Omega,Delta,tau,V,rho_ref):\n",
    "        \n",
    "    # Times discretization\n",
    "    times = np.linspace(0.0, 3*tau, 200)\n",
    "    \n",
    "    # Apply first pulse\n",
    "    H = hamiltonian_imperfect(Omega,Delta,V)\n",
    "    result = mesolve(H, psi, times,[], [rho_ref])\n",
    "        \n",
    "    return result\n",
    "\n",
    "# Chain state initialization\n",
    "def CZ_init(state_first,state_last):\n",
    "    \n",
    "    psi = basis(3,state_first) \n",
    "    psi = tensor(psi,basis(3,state_last))\n",
    "    \n",
    "    return psi"
   ]
  },
  {
   "cell_type": "markdown",
   "id": "thick-magazine",
   "metadata": {},
   "source": [
    "### Measurement of a two-qubit system with noise on $\\tau$ and $\\Delta$"
   ]
  },
  {
   "cell_type": "markdown",
   "id": "injured-night",
   "metadata": {
    "heading_collapsed": true
   },
   "source": [
    "#### V $\\sim$ 1"
   ]
  },
  {
   "cell_type": "code",
   "execution_count": 231,
   "id": "experienced-candidate",
   "metadata": {
    "ExecuteTime": {
     "end_time": "2021-03-01T17:11:25.673110Z",
     "start_time": "2021-03-01T17:11:25.575588Z"
    },
    "hidden": true
   },
   "outputs": [
    {
     "data": {
      "text/latex": [
       "Quantum object: dims = [[3, 3], [1, 1]], shape = (9, 1), type = ket\\begin{equation*}\\left(\\begin{array}{*{11}c}0.0\\\\0.0\\\\0.0\\\\0.0\\\\(0.720-0.210j)\\\\(0.098+0.146j)\\\\0.0\\\\(0.098+0.146j)\\\\(-0.056+0.611j)\\\\\\end{array}\\right)\\end{equation*}"
      ],
      "text/plain": [
       "Quantum object: dims = [[3, 3], [1, 1]], shape = (9, 1), type = ket\n",
       "Qobj data =\n",
       "[[ 0.        +0.j        ]\n",
       " [ 0.        +0.j        ]\n",
       " [ 0.        +0.j        ]\n",
       " [ 0.        +0.j        ]\n",
       " [ 0.7198569 -0.21049874j]\n",
       " [ 0.09750238+0.1460271j ]\n",
       " [ 0.        +0.j        ]\n",
       " [ 0.09750238+0.1460271j ]\n",
       " [-0.05563585+0.61052414j]]"
      ]
     },
     "execution_count": 231,
     "metadata": {},
     "output_type": "execute_result"
    }
   ],
   "source": [
    "state_first = 1\n",
    "state_last = 1\n",
    "psi_init = CZ_init(state_first,state_last)\n",
    "\n",
    "V = 1\n",
    "Omega   = 1\n",
    "frac_DO = 0.377371\n",
    "prod_Ot = 4.29268\n",
    "Delta = frac_DO * Omega\n",
    "tau = prod_Ot * Omega\n",
    "\n",
    "psi_fin = CZ_gate_imperfect(psi_init,Omega,Delta,tau,V)\n",
    "\n",
    "#fidelity(psi_fin,psi_init)\n",
    "psi_fin"
   ]
  },
  {
   "cell_type": "code",
   "execution_count": 228,
   "id": "hairy-board",
   "metadata": {
    "ExecuteTime": {
     "end_time": "2021-03-01T17:06:52.764845Z",
     "start_time": "2021-03-01T17:06:46.468242Z"
    },
    "hidden": true
   },
   "outputs": [],
   "source": [
    "# Fix parameters\n",
    "Omega   = 1\n",
    "frac_DO = 0.377371\n",
    "prod_Ot = 4.29268\n",
    "V = 1\n",
    "\n",
    "# State initialization\n",
    "state_first = 1\n",
    "state_last = 1\n",
    "psi_init = CZ_init(state_first,state_last)\n",
    "\n",
    "# Run several times with gaussian noise on parameters\n",
    "n_trials = 1000\n",
    "sigma = 0.01\n",
    "psi_list = []\n",
    "\n",
    "for nn in range(n_trials):\n",
    "    \n",
    "    Delta = frac_DO + np.random.normal(0.,sigma*frac_DO)\n",
    "    tau = prod_Ot + np.random.normal(0.,sigma*prod_Ot)\n",
    "\n",
    "    psi_fin = CZ_gate_imperfect(psi_init,Omega,Delta,tau,V)\n",
    "    psi_list.append(psi_fin)"
   ]
  },
  {
   "cell_type": "code",
   "execution_count": 229,
   "id": "graphic-glenn",
   "metadata": {
    "ExecuteTime": {
     "end_time": "2021-03-01T17:06:54.334292Z",
     "start_time": "2021-03-01T17:06:53.040796Z"
    },
    "hidden": true
   },
   "outputs": [],
   "source": [
    "meas_list = []\n",
    "\n",
    "n_meas = 10000\n",
    "\n",
    "for psi in psi_list:\n",
    "    confs, P = prepareMeasurement(N, psi)\n",
    "    meas = list( simulateMeasurement(confs, P, n_meas) )\n",
    "    meas_list = meas_list + meas \n",
    "    \n",
    "unique, counts = np.unique(meas_list, return_counts=True)"
   ]
  },
  {
   "cell_type": "code",
   "execution_count": 230,
   "id": "beneficial-analysis",
   "metadata": {
    "ExecuteTime": {
     "end_time": "2021-03-01T17:07:09.112572Z",
     "start_time": "2021-03-01T17:06:55.270438Z"
    },
    "hidden": true
   },
   "outputs": [
    {
     "data": {
      "image/png": "[encoded data removed]",
      "text/plain": [
       "<Figure size 576x432 with 1 Axes>"
      ]
     },
     "metadata": {
      "needs_background": "light"
     },
     "output_type": "display_data"
    }
   ],
   "source": [
    "fig, ax = plt.subplots(1,1, figsize=(8,6))\n",
    "\n",
    "ax.bar([0,1,2,3], height=counts,color=col[0])\n",
    "labels = [r\"$\\ket{11}$\",r\"$\\ket{1r}$\",r\"$\\ket{r1}$\",r\"$\\ket{rr}$\"]\n",
    "plt.xticks([0,1,2,3], labels)\n",
    "ax.set_ylim(10**3,10**(7.5))\n",
    "\n",
    "ax.set_xlabel(r'\\bf{Configuration}',fontsize=16)\n",
    "ax.set_ylabel(r'\\bf{Counts}',fontsize=16)\n",
    "ax.set_yscale('log')\n",
    "\n",
    "plt.savefig(\"plots/noise_measurement_two-qubit_imp_Vlow.pdf\", bbox_inches='tight')\n",
    "plt.show()"
   ]
  },
  {
   "cell_type": "markdown",
   "id": "outdoor-miami",
   "metadata": {
    "heading_collapsed": true
   },
   "source": [
    "#### V >> 1"
   ]
  },
  {
   "cell_type": "code",
   "execution_count": 75,
   "id": "forbidden-supplement",
   "metadata": {
    "ExecuteTime": {
     "end_time": "2021-02-28T10:39:53.921763Z",
     "start_time": "2021-02-28T10:38:24.446567Z"
    },
    "hidden": true
   },
   "outputs": [],
   "source": [
    "# Fix parameters\n",
    "Omega   = 1\n",
    "frac_DO = 0.377371\n",
    "prod_Ot = 4.29268\n",
    "V = 100\n",
    "\n",
    "# State initialization\n",
    "state_first = 1\n",
    "state_last = 1\n",
    "psi_init = CZ_init(state_first,state_last)\n",
    "\n",
    "# Run several times with gaussian noise on parameters\n",
    "n_trials = 1000\n",
    "sigma = 0.01 #0.001\n",
    "psi_list = []\n",
    "\n",
    "for nn in range(n_trials):\n",
    "    \n",
    "    Delta = frac_DO * (Omega**2/(2*V)) + np.random.normal(0.,sigma*frac_DO)  # DA RIVEDERE!!!!\n",
    "    tau = prod_Ot + np.random.normal(0.,sigma*prod_Ot)\n",
    "\n",
    "    psi_fin = CZ_gate_imperfect(psi_init,Omega,Delta,tau,V)\n",
    "    psi_list.append(psi_fin)"
   ]
  },
  {
   "cell_type": "code",
   "execution_count": 48,
   "id": "furnished-proxy",
   "metadata": {
    "ExecuteTime": {
     "end_time": "2021-02-28T10:24:18.194834Z",
     "start_time": "2021-02-28T10:24:18.190195Z"
    },
    "hidden": true
   },
   "outputs": [
    {
     "data": {
      "text/latex": [
       "Quantum object: dims = [[3, 3], [1, 1]], shape = (9, 1), type = ket\\begin{equation*}\\left(\\begin{array}{*{11}c}0.0\\\\0.0\\\\0.0\\\\0.0\\\\(1.000+0.004j)\\\\(5.063\\times10^{-04}+1.835\\times10^{-06}j)\\\\0.0\\\\(5.063\\times10^{-04}+1.835\\times10^{-06}j)\\\\(0.001+0.001j)\\\\\\end{array}\\right)\\end{equation*}"
      ],
      "text/plain": [
       "Quantum object: dims = [[3, 3], [1, 1]], shape = (9, 1), type = ket\n",
       "Qobj data =\n",
       "[[0.00000000e+00+0.00000000e+00j]\n",
       " [0.00000000e+00+0.00000000e+00j]\n",
       " [0.00000000e+00+0.00000000e+00j]\n",
       " [0.00000000e+00+0.00000000e+00j]\n",
       " [9.99992134e-01+3.54121432e-03j]\n",
       " [5.06311618e-04+1.83528959e-06j]\n",
       " [0.00000000e+00+0.00000000e+00j]\n",
       " [5.06311618e-04+1.83528959e-06j]\n",
       " [1.18366477e-03+1.13030980e-03j]]"
      ]
     },
     "execution_count": 48,
     "metadata": {},
     "output_type": "execute_result"
    }
   ],
   "source": [
    "psi_fin"
   ]
  },
  {
   "cell_type": "code",
   "execution_count": 76,
   "id": "educated-villa",
   "metadata": {
    "ExecuteTime": {
     "end_time": "2021-02-28T10:41:10.369036Z",
     "start_time": "2021-02-28T10:40:03.610563Z"
    },
    "hidden": true
   },
   "outputs": [],
   "source": [
    "meas_list = []\n",
    "\n",
    "n_meas = 10000\n",
    "\n",
    "for psi in psi_list:\n",
    "    confs, P = prepareMeasurement(N, psi)\n",
    "    meas = list( simulateMeasurement(confs, P, n_meas) )\n",
    "    meas_list = meas_list + meas \n",
    "    \n",
    "unique, counts = np.unique(meas_list, return_counts=True)"
   ]
  },
  {
   "cell_type": "code",
   "execution_count": 94,
   "id": "insured-identifier",
   "metadata": {
    "ExecuteTime": {
     "end_time": "2021-02-28T10:51:02.041775Z",
     "start_time": "2021-02-28T10:51:01.420900Z"
    },
    "hidden": true
   },
   "outputs": [
    {
     "data": {
      "image/png": "[encoded data removed]",
      "text/plain": [
       "<Figure size 576x432 with 1 Axes>"
      ]
     },
     "metadata": {
      "needs_background": "light"
     },
     "output_type": "display_data"
    }
   ],
   "source": [
    "fig, ax = plt.subplots(1,1, figsize=(8,6))\n",
    "\n",
    "#ax.bar(unique, height=counts,color=col[0])\n",
    "#base = [np.base_repr(n, base=3) for n in unique]\n",
    "#plt.xticks(unique, [r\"$|{0}>$\".format(m) for m in base])\n",
    "\n",
    "ax.bar([0,1,2,3], height=counts,color=col[0])\n",
    "#labels = [r\"$|11>$\",r\"$|1r>$\",r\"$|r1>$\",r\"$|rr>$\"]\n",
    "labels = [r\"$\\ket{11}$\",r\"$\\ket{1r}$\",r\"$\\ket{r1}$\",r\"$\\ket{rr}$\"]\n",
    "plt.xticks([0,1,2,3], labels)\n",
    "ax.set_ylim(10**3,10**(7.5))\n",
    "\n",
    "ax.set_xlabel(r'\\bf{Configuration}',fontsize=16)\n",
    "ax.set_ylabel(r'\\bf{Counts}',fontsize=16)\n",
    "ax.set_yscale('log')\n",
    "plt.savefig(\"plots/noise_measurement_two-qubit_imp_Vbig.pdf\", bbox_inches='tight')\n",
    "plt.show()"
   ]
  },
  {
   "cell_type": "code",
   "execution_count": null,
   "id": "executed-modeling",
   "metadata": {
    "hidden": true
   },
   "outputs": [],
   "source": []
  },
  {
   "cell_type": "code",
   "execution_count": null,
   "id": "breeding-opposition",
   "metadata": {
    "hidden": true
   },
   "outputs": [],
   "source": []
  },
  {
   "cell_type": "code",
   "execution_count": null,
   "id": "formed-europe",
   "metadata": {
    "hidden": true
   },
   "outputs": [],
   "source": []
  },
  {
   "cell_type": "code",
   "execution_count": null,
   "id": "olympic-console",
   "metadata": {
    "hidden": true
   },
   "outputs": [],
   "source": []
  }
 ],
 "metadata": {
  "kernelspec": {
   "display_name": "Python 3",
   "language": "python",
   "name": "python3"
  },
  "language_info": {
   "codemirror_mode": {
    "name": "ipython",
    "version": 3
   },
   "file_extension": ".py",
   "mimetype": "text/x-python",
   "name": "python",
   "nbconvert_exporter": "python",
   "pygments_lexer": "ipython3",
   "version": "3.7.9"
  },
  "varInspector": {
   "cols": {
    "lenName": 16,
    "lenType": 16,
    "lenVar": 40
   },
   "kernels_config": {
    "python": {
     "delete_cmd_postfix": "",
     "delete_cmd_prefix": "del ",
     "library": "var_list.py",
     "varRefreshCmd": "print(var_dic_list())"
    },
    "r": {
     "delete_cmd_postfix": ") ",
     "delete_cmd_prefix": "rm(",
     "library": "var_list.r",
     "varRefreshCmd": "cat(var_dic_list()) "
    }
   },
   "types_to_exclude": [
    "module",
    "function",
    "builtin_function_or_method",
    "instance",
    "_Feature"
   ],
   "window_display": false
  }
 },
 "nbformat": 4,
 "nbformat_minor": 5
}
